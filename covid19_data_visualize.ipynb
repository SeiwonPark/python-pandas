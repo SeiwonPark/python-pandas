{
 "cells": [
  {
   "cell_type": "markdown",
   "metadata": {},
   "source": [
    "## Visualize data\n",
    "### 1. Sign in at [https://app.flourish.studio/](https://app.flourish.studio/)\n",
    "### 2. Go to New visualization > Bar Chart Race > Upload file\n",
    "### 3. Result: [https://public.flourish.studio/visualisation/4890811/](https://public.flourish.studio/visualisation/4890811/)"
   ]
  }
 ],
 "metadata": {
  "kernelspec": {
   "display_name": "Python 3",
   "language": "python",
   "name": "python3"
  },
  "language_info": {
   "codemirror_mode": {
    "name": "ipython",
    "version": 3
   },
   "file_extension": ".py",
   "mimetype": "text/x-python",
   "name": "python",
   "nbconvert_exporter": "python",
   "pygments_lexer": "ipython3",
   "version": "3.8.5"
  }
 },
 "nbformat": 4,
 "nbformat_minor": 4
}
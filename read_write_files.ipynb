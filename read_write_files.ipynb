{
 "cells": [
  {
   "cell_type": "markdown",
   "metadata": {},
   "source": [
    "## 1. Unifying encoding types \n",
    "* Using **unicode** _ex. utf-8, utf-16, utf-32_   \n",
    "* When opening files, by using **utf-8-sig** which removes BOM(Byte Order Mark), we could manage encoding issues from different OS. \n"
   ]
  },
  {
   "cell_type": "markdown",
   "metadata": {},
   "source": [
    "## 2. File path\n",
    "* Absolute path: path from the root directory\n",
    "    * _ex._ `/Users/workspace/python-pandas`  \n",
    "        * starts at the root directory(/) and then add '/' after every directory   \n",
    "        * last '/' is optional\n",
    "    \n",
    "* Relative path: path from working directory\n",
    "    * _ex._ `main.py`\n",
    "        * the only file named 'main.py' in present working directory\n",
    "    * _ex._ `../python-keras`   \n",
    "        * file in /Users/workspace/python-keras\n",
    "        * ../ is pointing to parent folder"
   ]
  },
  {
   "cell_type": "markdown",
   "metadata": {},
   "source": [
    "## 3. Plain Text files\n",
    "\n",
    "### 3.1 Read files\n",
    "* Using `.read()`, you can read whole data in a **big string**\n",
    "* Using `.readline()`, you can read **one line** at a time\n",
    "* Using `.readlines()`, you can read whole data by line in a **list type**"
   ]
  },
  {
   "cell_type": "code",
   "execution_count": 40,
   "metadata": {},
   "outputs": [
    {
     "name": "stdout",
     "output_type": "stream",
     "text": [
      "['Hello World!\\n', 'This is an example file\\n', '-----------------------\\n', 'Sensor Cloud, Kookmin University']\n",
      "<class 'list'>\n"
     ]
    }
   ],
   "source": [
    "# 'r': 'read', 'w': 'write', 'a': 'append' option\n",
    "data_file = open('files/text_data.txt', 'r', encoding='utf-8-sig')\n",
    "data_lines = data_file.readlines()\n",
    "print(data_lines)\n",
    "print(type(data_lines))"
   ]
  },
  {
   "cell_type": "code",
   "execution_count": 41,
   "metadata": {},
   "outputs": [
    {
     "name": "stdout",
     "output_type": "stream",
     "text": [
      "Hello World!\n",
      "\n",
      "This is an example file\n",
      "\n",
      "-----------------------\n",
      "\n",
      "Sensor Cloud, Kookmin University\n"
     ]
    }
   ],
   "source": [
    "for data_line in data_lines:\n",
    "    print(data_line)"
   ]
  },
  {
   "cell_type": "code",
   "execution_count": 42,
   "metadata": {},
   "outputs": [
    {
     "name": "stdout",
     "output_type": "stream",
     "text": [
      "Hello World!\n",
      "This is an example file\n",
      "-----------------------\n",
      "Sensor Cloud, Kookmin University\n"
     ]
    }
   ],
   "source": [
    "data_file = open('files/text_data.txt', 'r', encoding='utf-8-sig')\n",
    "data = data_file.read()\n",
    "print(data)"
   ]
  },
  {
   "cell_type": "markdown",
   "metadata": {},
   "source": [
    "### 3.2 Write files\n",
    "* Using `.write()`, you can write data _**BUT**_ if 'w' option is selected, it **overwrite** original file"
   ]
  },
  {
   "cell_type": "code",
   "execution_count": 61,
   "metadata": {},
   "outputs": [
    {
     "name": "stdout",
     "output_type": "stream",
     "text": [
      "Overwritten !!!\n"
     ]
    }
   ],
   "source": [
    "# 'r': 'read', 'w': 'write', 'a': 'append' option\n",
    "\n",
    "# Write file\n",
    "data_file = open('files/text_data.txt', 'w', encoding='utf-8-sig')\n",
    "data_file.write('Overwritten !!!')\n",
    "\n",
    "# Read the file\n",
    "data_file = open('files/text_data.txt', 'r', encoding='utf-8-sig')\n",
    "data = data_file.read()\n",
    "print(data)"
   ]
  },
  {
   "cell_type": "code",
   "execution_count": 62,
   "metadata": {},
   "outputs": [
    {
     "name": "stdout",
     "output_type": "stream",
     "text": [
      "Overwritten !!!\n",
      "Line added !!!\n"
     ]
    }
   ],
   "source": [
    "# 'r': 'read', 'w': 'write', 'a': 'append' option\n",
    "\n",
    "# add lines\n",
    "data_file = open('files/text_data.txt', 'a', encoding='utf-8-sig')\n",
    "data_file.write('\\nLine added !!!')\n",
    "\n",
    "# Read the file\n",
    "data_file = open('files/text_data.txt', 'r', encoding='utf-8-sig')\n",
    "data = data_file.read()\n",
    "print(data)\n",
    "\n",
    "data_file.close()"
   ]
  },
  {
   "cell_type": "markdown",
   "metadata": {},
   "source": [
    "## 4. CSV files\n",
    "\n",
    "* Example of CSV(Comma Separated Values) file format   \n",
    "if we want following data,    \n",
    "\n",
    "Index | Value\n",
    ":-----: | :-----------:\n",
    "Name | Seiwon Park\n",
    "Univ | Kookmin\n",
    "\n",
    "then we can save it in `.csv` format as follows:   \n",
    "\n",
    "Index, Value   \n",
    "Name, Seiwon Park   \n",
    "Univ, Kookmin   \n",
    "\n",
    "### 4.1 Read files\n",
    "* import csv\n",
    "* Using `csv.reader()`, you can read files by line"
   ]
  },
  {
   "cell_type": "code",
   "execution_count": 67,
   "metadata": {},
   "outputs": [
    {
     "name": "stdout",
     "output_type": "stream",
     "text": [
      "['Index', ' Value']\n",
      "['Name', ' Seiwon Park']\n",
      "['Univ', ' Kookmin']\n"
     ]
    }
   ],
   "source": [
    "import csv\n",
    "\n",
    "data_file = open('files/csv_data.csv', 'r', encoding='utf-8-sig')\n",
    "data_lines = csv.reader(data_file, delimiter=',')   # delimiter option: \n",
    "for data_line in data_lines:\n",
    "    print(data_line)\n",
    "    \n",
    "data_file.close()"
   ]
  },
  {
   "cell_type": "markdown",
   "metadata": {},
   "source": [
    "### 4.2 Write files\n",
    "* import csv\n",
    "* Using `csv.writer()`, you can write files\n",
    "* _**NOTE**_: `newline=''` in `open()` function is recommended on Windows as when writing csv data on Windows, it automatically adds empty line(\"\\n\") at the end of each line"
   ]
  },
  {
   "cell_type": "code",
   "execution_count": 71,
   "metadata": {},
   "outputs": [
    {
     "name": "stdout",
     "output_type": "stream",
     "text": [
      "['1', '2', '3']\n"
     ]
    }
   ],
   "source": [
    "import csv\n",
    "\n",
    "# Write file\n",
    "data_file = open('files/csv_data.csv', 'w', encoding='utf-8-sig', newline='')\n",
    "data_write = csv.writer(data_file, delimiter=',')\n",
    "data_write.writerow(['1', '2', '3'])\n",
    "\n",
    "# Read file\n",
    "data_file = open('files/csv_data.csv', 'r', encoding='utf-8-sig')\n",
    "data_lines = csv.reader(data_file, delimiter=',')   # delimiter option: \n",
    "for data_line in data_lines:\n",
    "    print(data_line)\n",
    "data_file.close()"
   ]
  },
  {
   "cell_type": "code",
   "execution_count": 75,
   "metadata": {},
   "outputs": [
    {
     "name": "stdout",
     "output_type": "stream",
     "text": [
      "['Index', 'Value']\n",
      "['Name', 'Seiwon Park']\n",
      "['Univ', 'Kookmin']\n"
     ]
    }
   ],
   "source": [
    "import csv\n",
    "\n",
    "# Write file\n",
    "# `with open()` can automatically open and close files\n",
    "with open('files/new_csv_data.csv', 'w', encoding='utf-8-sig', newline='') as csv_writer:\n",
    "    \n",
    "    # Set headers\n",
    "    field_names = ['Index', 'Value']\n",
    "    writer = csv.DictWriter(csv_writer, fieldnames=field_names)\n",
    "    \n",
    "    # Write rows\n",
    "    writer.writeheader()\n",
    "    writer.writerow({'Index': 'Name', 'Value': 'Seiwon Park'})\n",
    "    writer.writerow({'Index': 'Univ', 'Value': 'Kookmin'})\n",
    "\n",
    "\n",
    "# Read file\n",
    "with open('files/new_csv_data.csv', 'r', encoding='utf-8-sig', newline='') as csv_reader:\n",
    "    data_lines = csv.reader(csv_reader, delimiter=',')   # delimiter option: \n",
    "    for data_line in data_lines:\n",
    "        print(data_line)"
   ]
  },
  {
   "cell_type": "markdown",
   "metadata": {},
   "source": [
    "## 5. XML files \n",
    "* XML(Extensible Markup Language)\n",
    "    * Markup Language: using _**tag**_, represents elements in files\n",
    "* structure \n",
    "\n",
    "        <tag attribute=\"attribute_value\">context</tag>\n",
    "        \n",
    "        <examples type=\"test\">\n",
    "            <example a=\"12345\" b=\"hello\">This is for testing</example>\n",
    "            <example c=\"678910\" d=\"world\">Sensor Cloud</example>\n",
    "        </examples>\n",
    "        \n",
    "        \n",
    "### 5.1 Read XML files\n"
   ]
  },
  {
   "cell_type": "code",
   "execution_count": 48,
   "metadata": {},
   "outputs": [
    {
     "name": "stdout",
     "output_type": "stream",
     "text": [
      "Requirement already satisfied: bs4 in /Library/Frameworks/Python.framework/Versions/3.8/lib/python3.8/site-packages (0.0.1)\r\n",
      "Requirement already satisfied: beautifulsoup4 in /Library/Frameworks/Python.framework/Versions/3.8/lib/python3.8/site-packages (from bs4) (4.9.3)\r\n",
      "Requirement already satisfied: soupsieve>1.2 in /Library/Frameworks/Python.framework/Versions/3.8/lib/python3.8/site-packages (from beautifulsoup4->bs4) (2.1)\r\n"
     ]
    }
   ],
   "source": [
    "!pip install bs4"
   ]
  },
  {
   "cell_type": "code",
   "execution_count": 45,
   "metadata": {
    "scrolled": true
   },
   "outputs": [
    {
     "name": "stdout",
     "output_type": "stream",
     "text": [
      "\n",
      "\n",
      "Hello XML !!!\n",
      "XML stands for Extensible Markup Language\n",
      "\n",
      "\n",
      "Sensor Cloud\n",
      "Kookmin University\n",
      "\n",
      "\n"
     ]
    }
   ],
   "source": [
    "from bs4 import BeautifulSoup\n",
    "\n",
    "with open('files/xml_data.xml', 'r', encoding='utf-8-sig') as data_file:\n",
    "    soup = BeautifulSoup(data_file, features=\"html\")   # features='xml' or 'lxml' doesn't work in Jupyter\n",
    "    a = soup.select('a')\n",
    "    for b in a:\n",
    "        print(b.text)"
   ]
  },
  {
   "cell_type": "code",
   "execution_count": 50,
   "metadata": {},
   "outputs": [
    {
     "name": "stdout",
     "output_type": "stream",
     "text": [
      "<ti>Hello XML !!!</ti>\n",
      "<co>XML stands for Extensible Markup Language</co>\n"
     ]
    }
   ],
   "source": [
    "from bs4 import BeautifulSoup\n",
    "\n",
    "with open('files/xml_data.xml', 'r', encoding='utf-8-sig') as data_file:\n",
    "    soup = BeautifulSoup(data_file, features=\"html\")   # features='xml' or 'lxml' doesn't work in Jupyter\n",
    "    a = soup.select('a')\n",
    "    for b in a:\n",
    "        print(b.select_one('ti'))\n",
    "        print(b.select_one('co'))"
   ]
  },
  {
   "cell_type": "markdown",
   "metadata": {},
   "source": [
    "## Practice 1. Gathering 'Related Search Terms' from Google\n",
    "\n",
    "### 1. Get 'http://suggestqueries.google.com/complete/search?output=toolbar&q='\n",
    "### 2. Search following attribute\n",
    "\n",
    "        <suggestion data=\"연관검색어\"> "
   ]
  },
  {
   "cell_type": "code",
   "execution_count": 58,
   "metadata": {},
   "outputs": [
    {
     "name": "stdout",
     "output_type": "stream",
     "text": [
      "christmas\n",
      "christmas tree\n",
      "christmas wallpaper\n",
      "christmas card\n",
      "christmas card message\n",
      "christmas carol\n",
      "christmas illustration\n",
      "christmas background\n",
      "christmas cake\n",
      "christmas aesthetic\n"
     ]
    }
   ],
   "source": [
    "# Practice 1. Gathering 'Related Search Temrs'\n",
    "\n",
    "from bs4 import BeautifulSoup\n",
    "import requests\n",
    "\n",
    "url = 'http://suggestqueries.google.com/complete/search?output=toolbar&q='\n",
    "search_term = 'christmas'\n",
    "response = requests.get(url + search_term)\n",
    "soup = BeautifulSoup(response.content, 'html')\n",
    "attr = soup.select('suggestion')\n",
    "\n",
    "for ele in attr:\n",
    "    print(ele['data'])"
   ]
  },
  {
   "cell_type": "markdown",
   "metadata": {},
   "source": [
    "## 6. JSON files\n",
    "* JSON stands for JavaScript Object Notation\n",
    "\n",
    "### 6.1 Read JSON files\n",
    "* Using `json.load()`, you'll read .json file\n",
    "* Using `json.loads()`, you'll get json-formatted data(which is dict type)\n",
    "* Using `json.dump()`, you'll write file in a json-formatted data\n",
    "* Using `json.dumps()`, you'll get string-typed dict data\n",
    "* Using `json.dumps(data, indent=2)`\n",
    "* Using `json.load(data).keys()`, you can get all keys in a list"
   ]
  },
  {
   "cell_type": "code",
   "execution_count": 61,
   "metadata": {},
   "outputs": [
    {
     "name": "stdout",
     "output_type": "stream",
     "text": [
      "{'kind': 'youtube#videoCategory', 'etag': '\"m2yskBQFythfE4irbTIeOgYYfBU/Xy1mB4_yLrHy_BmKmPBggty2mZQ\"', 'id': '1', 'snippet': {'channelId': 'UCBR8-60-B28hp2BmDPdntcQ', 'title': 'Film & Animation', 'assignable': True}}\n",
      "{'kind': 'youtube#videoCategory', 'etag': '\"m2yskBQFythfE4irbTIeOgYYfBU/UZ1oLIIz2dxIhO45ZTFR3a3NyTA\"', 'id': '2', 'snippet': {'channelId': 'UCBR8-60-B28hp2BmDPdntcQ', 'title': 'Autos & Vehicles', 'assignable': True}}\n",
      "{'kind': 'youtube#videoCategory', 'etag': '\"m2yskBQFythfE4irbTIeOgYYfBU/nqRIq97-xe5XRZTxbknKFVe5Lmg\"', 'id': '10', 'snippet': {'channelId': 'UCBR8-60-B28hp2BmDPdntcQ', 'title': 'Music', 'assignable': True}}\n",
      "{'kind': 'youtube#videoCategory', 'etag': '\"m2yskBQFythfE4irbTIeOgYYfBU/HwXKamM1Q20q9BN-oBJavSGkfDI\"', 'id': '15', 'snippet': {'channelId': 'UCBR8-60-B28hp2BmDPdntcQ', 'title': 'Pets & Animals', 'assignable': True}}\n",
      "{'kind': 'youtube#videoCategory', 'etag': '\"m2yskBQFythfE4irbTIeOgYYfBU/9GQMSRjrZdHeb1OEM1XVQ9zbGec\"', 'id': '17', 'snippet': {'channelId': 'UCBR8-60-B28hp2BmDPdntcQ', 'title': 'Sports', 'assignable': True}}\n",
      "{'kind': 'youtube#videoCategory', 'etag': '\"m2yskBQFythfE4irbTIeOgYYfBU/FJwVpGCVZ1yiJrqZbpqe68Sy_OE\"', 'id': '18', 'snippet': {'channelId': 'UCBR8-60-B28hp2BmDPdntcQ', 'title': 'Short Movies', 'assignable': False}}\n",
      "{'kind': 'youtube#videoCategory', 'etag': '\"m2yskBQFythfE4irbTIeOgYYfBU/M-3iD9dwK7YJCafRf_DkLN8CouA\"', 'id': '19', 'snippet': {'channelId': 'UCBR8-60-B28hp2BmDPdntcQ', 'title': 'Travel & Events', 'assignable': True}}\n",
      "{'kind': 'youtube#videoCategory', 'etag': '\"m2yskBQFythfE4irbTIeOgYYfBU/WmA0qYEfjWsAoyJFSw2zinhn2wM\"', 'id': '20', 'snippet': {'channelId': 'UCBR8-60-B28hp2BmDPdntcQ', 'title': 'Gaming', 'assignable': True}}\n",
      "{'kind': 'youtube#videoCategory', 'etag': '\"m2yskBQFythfE4irbTIeOgYYfBU/EapFaGYG7K0StIXVf8aba249tdM\"', 'id': '21', 'snippet': {'channelId': 'UCBR8-60-B28hp2BmDPdntcQ', 'title': 'Videoblogging', 'assignable': False}}\n",
      "{'kind': 'youtube#videoCategory', 'etag': '\"m2yskBQFythfE4irbTIeOgYYfBU/xId8RX7vRN8rqkbYZbNIytUQDRo\"', 'id': '22', 'snippet': {'channelId': 'UCBR8-60-B28hp2BmDPdntcQ', 'title': 'People & Blogs', 'assignable': True}}\n",
      "{'kind': 'youtube#videoCategory', 'etag': '\"m2yskBQFythfE4irbTIeOgYYfBU/G9LHzQmx44rX2S5yaga_Aqtwz8M\"', 'id': '23', 'snippet': {'channelId': 'UCBR8-60-B28hp2BmDPdntcQ', 'title': 'Comedy', 'assignable': True}}\n",
      "{'kind': 'youtube#videoCategory', 'etag': '\"m2yskBQFythfE4irbTIeOgYYfBU/UVB9oxX2Bvqa_w_y3vXSLVK5E_s\"', 'id': '24', 'snippet': {'channelId': 'UCBR8-60-B28hp2BmDPdntcQ', 'title': 'Entertainment', 'assignable': True}}\n",
      "{'kind': 'youtube#videoCategory', 'etag': '\"m2yskBQFythfE4irbTIeOgYYfBU/QiLK0ZIrFoORdk_g2l_XR_ECjDc\"', 'id': '25', 'snippet': {'channelId': 'UCBR8-60-B28hp2BmDPdntcQ', 'title': 'News & Politics', 'assignable': True}}\n",
      "{'kind': 'youtube#videoCategory', 'etag': '\"m2yskBQFythfE4irbTIeOgYYfBU/r6Ck6Z0_L0rG37VJQR200SGNA_w\"', 'id': '26', 'snippet': {'channelId': 'UCBR8-60-B28hp2BmDPdntcQ', 'title': 'Howto & Style', 'assignable': True}}\n",
      "{'kind': 'youtube#videoCategory', 'etag': '\"m2yskBQFythfE4irbTIeOgYYfBU/EoYkczo9I3RCf96RveKTOgOPkUM\"', 'id': '27', 'snippet': {'channelId': 'UCBR8-60-B28hp2BmDPdntcQ', 'title': 'Education', 'assignable': True}}\n",
      "{'kind': 'youtube#videoCategory', 'etag': '\"m2yskBQFythfE4irbTIeOgYYfBU/w5HjcTD82G_XA3xBctS30zS-JpQ\"', 'id': '28', 'snippet': {'channelId': 'UCBR8-60-B28hp2BmDPdntcQ', 'title': 'Science & Technology', 'assignable': True}}\n",
      "{'kind': 'youtube#videoCategory', 'etag': '\"m2yskBQFythfE4irbTIeOgYYfBU/SalkJoBWq_smSEqiAx_qyri6Wa8\"', 'id': '29', 'snippet': {'channelId': 'UCBR8-60-B28hp2BmDPdntcQ', 'title': 'Nonprofits & Activism', 'assignable': True}}\n",
      "{'kind': 'youtube#videoCategory', 'etag': '\"m2yskBQFythfE4irbTIeOgYYfBU/lL7uWDr_071CHxifjYG1tJrp4Uo\"', 'id': '30', 'snippet': {'channelId': 'UCBR8-60-B28hp2BmDPdntcQ', 'title': 'Movies', 'assignable': False}}\n",
      "{'kind': 'youtube#videoCategory', 'etag': '\"m2yskBQFythfE4irbTIeOgYYfBU/WnuVfjO-PyFLO7NTRQIbrGE62nk\"', 'id': '31', 'snippet': {'channelId': 'UCBR8-60-B28hp2BmDPdntcQ', 'title': 'Anime/Animation', 'assignable': False}}\n",
      "{'kind': 'youtube#videoCategory', 'etag': '\"m2yskBQFythfE4irbTIeOgYYfBU/ctpH2hGA_UZ3volJT_FTlOg9M00\"', 'id': '32', 'snippet': {'channelId': 'UCBR8-60-B28hp2BmDPdntcQ', 'title': 'Action/Adventure', 'assignable': False}}\n",
      "{'kind': 'youtube#videoCategory', 'etag': '\"m2yskBQFythfE4irbTIeOgYYfBU/L0kR3-g1BAo5UD1PLVbQ7LkkDtQ\"', 'id': '33', 'snippet': {'channelId': 'UCBR8-60-B28hp2BmDPdntcQ', 'title': 'Classics', 'assignable': False}}\n",
      "{'kind': 'youtube#videoCategory', 'etag': '\"m2yskBQFythfE4irbTIeOgYYfBU/pUZOAC_s9sfiwar639qr_wAB-aI\"', 'id': '34', 'snippet': {'channelId': 'UCBR8-60-B28hp2BmDPdntcQ', 'title': 'Comedy', 'assignable': False}}\n",
      "{'kind': 'youtube#videoCategory', 'etag': '\"m2yskBQFythfE4irbTIeOgYYfBU/Xb5JLhtyNRN3AQq021Ds-OV50Jk\"', 'id': '35', 'snippet': {'channelId': 'UCBR8-60-B28hp2BmDPdntcQ', 'title': 'Documentary', 'assignable': False}}\n",
      "{'kind': 'youtube#videoCategory', 'etag': '\"m2yskBQFythfE4irbTIeOgYYfBU/u8WXzF4HIhtEi805__sqjuA4lEk\"', 'id': '36', 'snippet': {'channelId': 'UCBR8-60-B28hp2BmDPdntcQ', 'title': 'Drama', 'assignable': False}}\n",
      "{'kind': 'youtube#videoCategory', 'etag': '\"m2yskBQFythfE4irbTIeOgYYfBU/D04PP4Gr7wc4IV_O9G66Z4A8KWQ\"', 'id': '37', 'snippet': {'channelId': 'UCBR8-60-B28hp2BmDPdntcQ', 'title': 'Family', 'assignable': False}}\n",
      "{'kind': 'youtube#videoCategory', 'etag': '\"m2yskBQFythfE4irbTIeOgYYfBU/i5-_AceGXQCEEMWU0V8CcQm_vLQ\"', 'id': '38', 'snippet': {'channelId': 'UCBR8-60-B28hp2BmDPdntcQ', 'title': 'Foreign', 'assignable': False}}\n",
      "{'kind': 'youtube#videoCategory', 'etag': '\"m2yskBQFythfE4irbTIeOgYYfBU/rtlxd0zOixA9QHdIZB26-St5qgQ\"', 'id': '39', 'snippet': {'channelId': 'UCBR8-60-B28hp2BmDPdntcQ', 'title': 'Horror', 'assignable': False}}\n",
      "{'kind': 'youtube#videoCategory', 'etag': '\"m2yskBQFythfE4irbTIeOgYYfBU/N1TrDFLRppxZgBowCJfJCvh0Dpg\"', 'id': '40', 'snippet': {'channelId': 'UCBR8-60-B28hp2BmDPdntcQ', 'title': 'Sci-Fi/Fantasy', 'assignable': False}}\n",
      "{'kind': 'youtube#videoCategory', 'etag': '\"m2yskBQFythfE4irbTIeOgYYfBU/7UMGi6zRySqXopr_rv4sZq6Za2E\"', 'id': '41', 'snippet': {'channelId': 'UCBR8-60-B28hp2BmDPdntcQ', 'title': 'Thriller', 'assignable': False}}\n",
      "{'kind': 'youtube#videoCategory', 'etag': '\"m2yskBQFythfE4irbTIeOgYYfBU/RScXhi324h8usyIetreAVb-uKeM\"', 'id': '42', 'snippet': {'channelId': 'UCBR8-60-B28hp2BmDPdntcQ', 'title': 'Shorts', 'assignable': False}}\n",
      "{'kind': 'youtube#videoCategory', 'etag': '\"m2yskBQFythfE4irbTIeOgYYfBU/0n9MJVCDLpA8q7aiGVrFsuFsd0A\"', 'id': '43', 'snippet': {'channelId': 'UCBR8-60-B28hp2BmDPdntcQ', 'title': 'Shows', 'assignable': False}}\n",
      "{'kind': 'youtube#videoCategory', 'etag': '\"m2yskBQFythfE4irbTIeOgYYfBU/x5NxSf5fz8hn4loSN4rvhwzD_pY\"', 'id': '44', 'snippet': {'channelId': 'UCBR8-60-B28hp2BmDPdntcQ', 'title': 'Trailers', 'assignable': False}}\n"
     ]
    }
   ],
   "source": [
    "import json\n",
    "\n",
    "with open('Examples/00_data/US_category_id.json', 'r', encoding='utf-8-sig') as json_file:\n",
    "    json_data = json.load(json_file)\n",
    "    for item in json_data['items']:\n",
    "        print(item)"
   ]
  }
 ],
 "metadata": {
  "kernelspec": {
   "display_name": "Python 3",
   "language": "python",
   "name": "python3"
  },
  "language_info": {
   "codemirror_mode": {
    "name": "ipython",
    "version": 3
   },
   "file_extension": ".py",
   "mimetype": "text/x-python",
   "name": "python",
   "nbconvert_exporter": "python",
   "pygments_lexer": "ipython3",
   "version": "3.8.5"
  }
 },
 "nbformat": 4,
 "nbformat_minor": 4
}